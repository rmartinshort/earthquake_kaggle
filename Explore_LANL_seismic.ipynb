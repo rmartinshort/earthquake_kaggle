{
 "cells": [
  {
   "cell_type": "code",
   "execution_count": 56,
   "metadata": {},
   "outputs": [],
   "source": [
    "import numpy as np\n",
    "import pandas as pd\n",
    "import matplotlib.pyplot as plt\n",
    "import seaborn as sns\n",
    "from scipy import stats\n",
    "%matplotlib inline"
   ]
  },
  {
   "cell_type": "markdown",
   "metadata": {},
   "source": [
    "The training datset is large, so we'll sample a small proportion of it and use that for building a workflow"
   ]
  },
  {
   "cell_type": "code",
   "execution_count": 5,
   "metadata": {},
   "outputs": [
    {
     "name": "stdout",
     "output_type": "stream",
     "text": [
      "CPU times: user 25.9 s, sys: 5.34 s, total: 31.2 s\n",
      "Wall time: 31.4 s\n"
     ]
    }
   ],
   "source": [
    "%%time\n",
    "dataset = pd.read_csv('train.csv',nrows=1e8)"
   ]
  },
  {
   "cell_type": "code",
   "execution_count": 6,
   "metadata": {},
   "outputs": [
    {
     "data": {
      "text/html": [
       "<div>\n",
       "<style scoped>\n",
       "    .dataframe tbody tr th:only-of-type {\n",
       "        vertical-align: middle;\n",
       "    }\n",
       "\n",
       "    .dataframe tbody tr th {\n",
       "        vertical-align: top;\n",
       "    }\n",
       "\n",
       "    .dataframe thead th {\n",
       "        text-align: right;\n",
       "    }\n",
       "</style>\n",
       "<table border=\"1\" class=\"dataframe\">\n",
       "  <thead>\n",
       "    <tr style=\"text-align: right;\">\n",
       "      <th></th>\n",
       "      <th>acoustic_data</th>\n",
       "      <th>time_to_failure</th>\n",
       "    </tr>\n",
       "  </thead>\n",
       "  <tbody>\n",
       "    <tr>\n",
       "      <th>0</th>\n",
       "      <td>12</td>\n",
       "      <td>1.4691</td>\n",
       "    </tr>\n",
       "    <tr>\n",
       "      <th>1</th>\n",
       "      <td>6</td>\n",
       "      <td>1.4691</td>\n",
       "    </tr>\n",
       "    <tr>\n",
       "      <th>2</th>\n",
       "      <td>8</td>\n",
       "      <td>1.4691</td>\n",
       "    </tr>\n",
       "    <tr>\n",
       "      <th>3</th>\n",
       "      <td>5</td>\n",
       "      <td>1.4691</td>\n",
       "    </tr>\n",
       "    <tr>\n",
       "      <th>4</th>\n",
       "      <td>8</td>\n",
       "      <td>1.4691</td>\n",
       "    </tr>\n",
       "  </tbody>\n",
       "</table>\n",
       "</div>"
      ],
      "text/plain": [
       "   acoustic_data  time_to_failure\n",
       "0             12           1.4691\n",
       "1              6           1.4691\n",
       "2              8           1.4691\n",
       "3              5           1.4691\n",
       "4              8           1.4691"
      ]
     },
     "execution_count": 6,
     "metadata": {},
     "output_type": "execute_result"
    }
   ],
   "source": [
    "dataset.head()"
   ]
  },
  {
   "cell_type": "code",
   "execution_count": 7,
   "metadata": {},
   "outputs": [
    {
     "data": {
      "text/plain": [
       "[<matplotlib.lines.Line2D at 0x109e33ba8>]"
      ]
     },
     "execution_count": 7,
     "metadata": {},
     "output_type": "execute_result"
    },
    {
     "data": {
      "image/png": "[encoded data removed]",
      "text/plain": [
       "<Figure size 432x288 with 1 Axes>"
      ]
     },
     "metadata": {
      "needs_background": "light"
     },
     "output_type": "display_data"
    }
   ],
   "source": [
    "plt.plot(dataset['time_to_failure'][:100000])"
   ]
  },
  {
   "cell_type": "markdown",
   "metadata": {},
   "source": [
    "This stepped nature must be something to do with the instrument that is timing the experiment? The time between values is basically zero between steps"
   ]
  },
  {
   "cell_type": "code",
   "execution_count": 26,
   "metadata": {},
   "outputs": [
    {
     "data": {
      "text/plain": [
       "[<matplotlib.lines.Line2D at 0x1a22fa4080>]"
      ]
     },
     "execution_count": 26,
     "metadata": {},
     "output_type": "execute_result"
    },
    {
     "data": {
      "image/png": "[encoded data removed]",
      "text/plain": [
       "<Figure size 432x288 with 1 Axes>"
      ]
     },
     "metadata": {
      "needs_background": "light"
     },
     "output_type": "display_data"
    }
   ],
   "source": [
    "plt.plot(dataset['time_to_failure'][5656000:5657000])"
   ]
  },
  {
   "cell_type": "markdown",
   "metadata": {},
   "source": [
    "On a larger scale we can see how the time to next failure decreases to zero and then jumps back up again"
   ]
  },
  {
   "cell_type": "markdown",
   "metadata": {},
   "source": [
    "The sampling frequency is very high, so it makes sense to try to downsample to reduce the size of the dataset. We could try to take advantage of the 'stepped' nature of the data and just choose samples at the edge of each step. Or we could just choose to sample at some reasonable interval "
   ]
  },
  {
   "cell_type": "code",
   "execution_count": 27,
   "metadata": {},
   "outputs": [],
   "source": [
    "def downsample(dataframe,interval):\n",
    "    \n",
    "    return dataframe.iloc[::interval]\n"
   ]
  },
  {
   "cell_type": "code",
   "execution_count": 28,
   "metadata": {},
   "outputs": [],
   "source": [
    "downsampled_data = downsample(dataset,4000)"
   ]
  },
  {
   "cell_type": "code",
   "execution_count": 30,
   "metadata": {},
   "outputs": [
    {
     "data": {
      "text/plain": [
       "<matplotlib.axes._subplots.AxesSubplot at 0x1a2485beb8>"
      ]
     },
     "execution_count": 30,
     "metadata": {},
     "output_type": "execute_result"
    },
    {
     "data": {
      "image/png": "[encoded data removed]",
      "text/plain": [
       "<Figure size 432x288 with 1 Axes>"
      ]
     },
     "metadata": {
      "needs_background": "light"
     },
     "output_type": "display_data"
    }
   ],
   "source": [
    "downsampled_data['acoustic_data'].plot()"
   ]
  },
  {
   "cell_type": "markdown",
   "metadata": {},
   "source": [
    "There are some anaomlies in here - will probably want to apply a despike filter to remove them"
   ]
  },
  {
   "cell_type": "code",
   "execution_count": 31,
   "metadata": {},
   "outputs": [
    {
     "data": {
      "text/plain": [
       "<matplotlib.axes._subplots.AxesSubplot at 0x1a2485bcc0>"
      ]
     },
     "execution_count": 31,
     "metadata": {},
     "output_type": "execute_result"
    },
    {
     "data": {
      "image/png": "[encoded data removed]",
      "text/plain": [
       "<Figure size 432x288 with 1 Axes>"
      ]
     },
     "metadata": {
      "needs_background": "light"
     },
     "output_type": "display_data"
    }
   ],
   "source": [
    "downsampled_data['time_to_failure'].plot()"
   ]
  },
  {
   "cell_type": "markdown",
   "metadata": {},
   "source": [
    "Here we can see some earthquake events"
   ]
  },
  {
   "cell_type": "markdown",
   "metadata": {},
   "source": [
    "### Designing a class to extract statistical features from chunks of data\n",
    "\n",
    "We'll want to divide the data up into chunks of some size, calculate features from the data within those chunks and then train a regression algorithm to predict the time to failure from each chunk. Chunk size will be an important parameter to vary"
   ]
  },
  {
   "cell_type": "code",
   "execution_count": 34,
   "metadata": {},
   "outputs": [
    {
     "data": {
      "text/plain": [
       "50"
      ]
     },
     "execution_count": 34,
     "metadata": {},
     "output_type": "execute_result"
    }
   ],
   "source": [
    "len(downsampled_data)//500"
   ]
  },
  {
   "cell_type": "code",
   "execution_count": 98,
   "metadata": {},
   "outputs": [],
   "source": [
    "class feature_calc:\n",
    "    \n",
    "    '''\n",
    "    We should try to calculate as many features as possible\n",
    "    '''\n",
    "    \n",
    "    def __init__(self):\n",
    "        \n",
    "        '''\n",
    "        Takes in a chunk of data as a numpy array and calculates features\n",
    "        '''\n",
    "        \n",
    "    def load_ts(self,inputdata):\n",
    "        \n",
    "        '''\n",
    "        Load a new chunk\n",
    "        '''\n",
    "        \n",
    "        self.indata = inputdata\n",
    "    \n",
    "    def calculate_features(self):\n",
    "        \n",
    "        '''\n",
    "        Loop over feature functions and append features to an array\n",
    "        '''\n",
    "        \n",
    "        features = [self.mean,self.median,self.peak,self.kurtosis,self.time_to_failure]\n",
    "        arr = np.zeros(len(features))\n",
    "        \n",
    "        for i in range(len(features)):\n",
    "        \n",
    "            feature_func = features[i]\n",
    "            arr[i] = feature_func()\n",
    "            \n",
    "        return arr\n",
    "    \n",
    "    ########################\n",
    "    #Feature calculators\n",
    "    ########################\n",
    "    \n",
    "    def time_to_failure(self):\n",
    "        \n",
    "        '''\n",
    "        Get the time to failure of from the final row of the segment\n",
    "        This is what we want to predict\n",
    "        '''\n",
    "        \n",
    "        return self.indata[-1,1]\n",
    "        \n",
    "    \n",
    "    def mean(self):\n",
    "        \n",
    "        '''\n",
    "        Return mean of acoustic data for chunk\n",
    "        '''\n",
    "        \n",
    "        return np.mean(self.indata[:,0])\n",
    "    \n",
    "    def median(self):\n",
    "        \n",
    "        '''\n",
    "        Return median of acoustic data for chunk\n",
    "        '''\n",
    "        \n",
    "        return np.median(self.indata[:,0])\n",
    "    \n",
    "    def peak(self):\n",
    "        \n",
    "        '''\n",
    "        Return peak value of acoustic data for chunk\n",
    "        '''\n",
    "        \n",
    "        return np.max(abs(self.indata[:,0]))\n",
    "    \n",
    "    def kurtosis(self):\n",
    "        \n",
    "        '''\n",
    "        Return kurtosis of acoustic data for chunk\n",
    "        '''\n",
    "        \n",
    "        return stats.kurtosis(self.indata[:,0])"
   ]
  },
  {
   "cell_type": "code",
   "execution_count": 99,
   "metadata": {},
   "outputs": [],
   "source": [
    "class generate_feature_df:\n",
    "    \n",
    "    \n",
    "    def __init__(self,input_data,chunk_size,stride):\n",
    "        \n",
    "        self.dataset = np.array(input_data)\n",
    "        self.chunksize = chunk_size\n",
    "        self.stride = stride\n",
    "        self.FC = feature_calc()\n",
    "        \n",
    "        #These are the feature labels and should be in the same order as the features\n",
    "        #that get calculated in feature_calc\n",
    "        \n",
    "        self.labels = ['mean','median','peak','kurtosis','time_to_failure']\n",
    "        \n",
    "    def process(self):\n",
    "        \n",
    "        '''\n",
    "        Loop though the dataset, extract chunks of a given size at a given stride\n",
    "        Then calculate features for that chunk and append them to a dataframe\n",
    "        '''\n",
    "        \n",
    "        nchunks = len(self.dataset)//self.stride\n",
    "        \n",
    "        index = 0\n",
    "        for i in range(nchunks):\n",
    "            chunk = self.dataset[index:index+self.chunksize,:]\n",
    "            index += self.stride\n",
    "            self.FC.load_ts(chunk)\n",
    "            arr = self.FC.calculate_features()\n",
    "            \n",
    "            if i == 0:\n",
    "                data_segmented = arr\n",
    "            else:\n",
    "                data_segmented = np.vstack((data_segmented,arr))\n",
    "                \n",
    "        \n",
    "                        \n",
    "        return pd.DataFrame(data_segmented,columns=self.labels)\n",
    "        \n",
    "      "
   ]
  },
  {
   "cell_type": "code",
   "execution_count": 100,
   "metadata": {},
   "outputs": [],
   "source": [
    "a = generate_feature_df(downsampled_data,500,100)\n",
    "training_df = a.process()"
   ]
  },
  {
   "cell_type": "code",
   "execution_count": null,
   "metadata": {},
   "outputs": [],
   "source": []
  }
 ],
 "metadata": {
  "kernelspec": {
   "display_name": "Python 3",
   "language": "python",
   "name": "python3"
  },
  "language_info": {
   "codemirror_mode": {
    "name": "ipython",
    "version": 3
   },
   "file_extension": ".py",
   "mimetype": "text/x-python",
   "name": "python",
   "nbconvert_exporter": "python",
   "pygments_lexer": "ipython3",
   "version": "3.6.7"
  }
 },
 "nbformat": 4,
 "nbformat_minor": 2
}
